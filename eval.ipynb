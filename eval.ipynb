{
 "cells": [
  {
   "cell_type": "code",
   "execution_count": 13,
   "id": "a9f75872",
   "metadata": {},
   "outputs": [],
   "source": [
    "import os\n",
    "import numpy as np\n",
    "from tensorflow.keras.models import Model, Sequential, load_model\n",
    "from tensorflow.keras.layers import Conv2D, Dropout, MultiHeadAttention, TimeDistributed, MaxPool2D, BatchNormalization, Dense, Input, Reshape, Flatten, Add, LayerNormalization\n",
    "from tensorflow.keras.callbacks import EarlyStopping, ModelCheckpoint, TensorBoard\n",
    "from tensorflow.keras.applications.resnet50 import ResNet50, preprocess_input\n",
    "from sklearn.model_selection import train_test_split\n",
    "from sklearn.metrics import classification_report, accuracy_score\n",
    "import time\n",
    "from datetime import datetime"
   ]
  },
  {
   "cell_type": "code",
   "execution_count": 3,
   "id": "f973f5cd",
   "metadata": {},
   "outputs": [
    {
     "name": "stdout",
     "output_type": "stream",
     "text": [
      "X_train shape: (779, 10, 100, 100, 3)\n",
      "y_train shape: (779,)\n",
      "X_val shape: (100, 10, 100, 100, 3)\n",
      "y_val shape: (100,)\n",
      "X_test shape: (234, 10, 100, 100, 3)\n",
      "y_test shape: (234,)\n"
     ]
    }
   ],
   "source": [
    "data_dir = 'saved_np_data/'\n",
    "features_path = os.path.join(data_dir, 'features.npy')\n",
    "labels_path = os.path.join(data_dir, 'labels.npy')\n",
    "\n",
    "features = np.load(features_path)\n",
    "labels = np.load(labels_path)\n",
    "\n",
    "X_train, X_test_val, y_train, y_test_val = train_test_split(features, labels, test_size = 0.3)\n",
    "\n",
    "X_val, X_test, y_val, y_test = train_test_split(X_test_val, y_test_val, test_size = 0.7)\n",
    "\n",
    "\n",
    "print(\"X_train shape:\", X_train.shape)\n",
    "print(\"y_train shape:\", y_train.shape)\n",
    "\n",
    "print(\"X_val shape:\", X_val.shape)\n",
    "print(\"y_val shape:\", y_val.shape)\n",
    "\n",
    "print(\"X_test shape:\", X_test.shape)\n",
    "print(\"y_test shape:\", y_test.shape)"
   ]
  },
  {
   "cell_type": "code",
   "execution_count": 5,
   "id": "3ba9fd2d",
   "metadata": {},
   "outputs": [
    {
     "name": "stderr",
     "output_type": "stream",
     "text": [
      "2023-09-16 15:30:58.345959: I tensorflow/core/common_runtime/pluggable_device/pluggable_device_factory.cc:306] Could not identify NUMA node of platform GPU ID 0, defaulting to 0. Your kernel may not have been built with NUMA support.\n",
      "2023-09-16 15:30:58.347297: I tensorflow/core/common_runtime/pluggable_device/pluggable_device_factory.cc:272] Created TensorFlow device (/job:localhost/replica:0/task:0/device:GPU:0 with 0 MB memory) -> physical PluggableDevice (device: 0, name: METAL, pci bus id: <undefined>)\n"
     ]
    },
    {
     "name": "stdout",
     "output_type": "stream",
     "text": [
      "Metal device set to: Apple M2\n"
     ]
    }
   ],
   "source": [
    "model = load_model('cpkts/model-88-0.1135.hdf5')"
   ]
  },
  {
   "cell_type": "code",
   "execution_count": 16,
   "id": "a8f71ba4",
   "metadata": {},
   "outputs": [
    {
     "name": "stdout",
     "output_type": "stream",
     "text": [
      "4/4 [==============================] - 1s 177ms/step\n"
     ]
    }
   ],
   "source": [
    "val_preds = model.predict(X_val)\n",
    "val_preds = val_preds.argmax(axis = 1)"
   ]
  },
  {
   "cell_type": "code",
   "execution_count": 18,
   "id": "2315f4a6",
   "metadata": {},
   "outputs": [
    {
     "name": "stdout",
     "output_type": "stream",
     "text": [
      "Validation Data\n",
      "Accuracy Score 97.0\n",
      "Classification Report\n",
      "              precision    recall  f1-score   support\n",
      "\n",
      "           0       1.00      1.00      1.00        13\n",
      "           1       1.00      1.00      1.00        15\n",
      "           2       1.00      1.00      1.00        17\n",
      "           3       1.00      1.00      1.00        15\n",
      "           4       0.94      0.89      0.92        19\n",
      "           5       0.89      1.00      0.94         8\n",
      "           6       0.92      0.92      0.92        13\n",
      "\n",
      "    accuracy                           0.97       100\n",
      "   macro avg       0.97      0.97      0.97       100\n",
      "weighted avg       0.97      0.97      0.97       100\n",
      "\n"
     ]
    }
   ],
   "source": [
    "print(\"Validation Data\")\n",
    "print(f\"Accuracy Score {accuracy_score(y_val, val_preds) * 100}\")\n",
    "print(\"Classification Report\")\n",
    "print(classification_report(y_val, val_preds))"
   ]
  },
  {
   "cell_type": "code",
   "execution_count": 10,
   "id": "d6e8ae45",
   "metadata": {},
   "outputs": [
    {
     "name": "stdout",
     "output_type": "stream",
     "text": [
      "8/8 [==============================] - 1s 83ms/step\n"
     ]
    }
   ],
   "source": [
    "preds = model.predict(X_test)\n",
    "preds = preds.argmax(axis = 1)"
   ]
  },
  {
   "cell_type": "code",
   "execution_count": 19,
   "id": "0011f614",
   "metadata": {},
   "outputs": [
    {
     "name": "stdout",
     "output_type": "stream",
     "text": [
      "Testing Data\n",
      "Accuracy Score 98.71794871794873\n",
      "Classification Report\n",
      "              precision    recall  f1-score   support\n",
      "\n",
      "           0       1.00      1.00      1.00        38\n",
      "           1       1.00      0.91      0.95        32\n",
      "           2       1.00      1.00      1.00        30\n",
      "           3       1.00      1.00      1.00        39\n",
      "           4       0.91      1.00      0.96        32\n",
      "           5       1.00      1.00      1.00        37\n",
      "           6       1.00      1.00      1.00        26\n",
      "\n",
      "    accuracy                           0.99       234\n",
      "   macro avg       0.99      0.99      0.99       234\n",
      "weighted avg       0.99      0.99      0.99       234\n",
      "\n"
     ]
    }
   ],
   "source": [
    "print(\"Testing Data\")\n",
    "print(f\"Accuracy Score {accuracy_score(y_test, preds) * 100}\")\n",
    "print(\"Classification Report\")\n",
    "print(classification_report(y_test, preds))"
   ]
  },
  {
   "cell_type": "code",
   "execution_count": null,
   "id": "32007858",
   "metadata": {},
   "outputs": [],
   "source": []
  }
 ],
 "metadata": {
  "kernelspec": {
   "display_name": "Python 3 (ipykernel)",
   "language": "python",
   "name": "python3"
  },
  "language_info": {
   "codemirror_mode": {
    "name": "ipython",
    "version": 3
   },
   "file_extension": ".py",
   "mimetype": "text/x-python",
   "name": "python",
   "nbconvert_exporter": "python",
   "pygments_lexer": "ipython3",
   "version": "3.9.16"
  }
 },
 "nbformat": 4,
 "nbformat_minor": 5
}
